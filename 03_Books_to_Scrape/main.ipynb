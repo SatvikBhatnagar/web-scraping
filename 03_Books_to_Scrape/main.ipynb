{
 "cells": [
  {
   "cell_type": "code",
   "id": "initial_id",
   "metadata": {
    "collapsed": true,
    "ExecuteTime": {
     "end_time": "2024-07-26T17:46:22.510173Z",
     "start_time": "2024-07-26T17:46:22.446701Z"
    }
   },
   "source": "import requests",
   "outputs": [],
   "execution_count": 1
  },
  {
   "metadata": {
    "ExecuteTime": {
     "end_time": "2024-07-26T17:48:33.955554Z",
     "start_time": "2024-07-26T17:48:33.072037Z"
    }
   },
   "cell_type": "code",
   "source": "from bs4 import BeautifulSoup",
   "id": "aa93240520788921",
   "outputs": [],
   "execution_count": 5
  },
  {
   "metadata": {
    "ExecuteTime": {
     "end_time": "2024-07-26T18:13:04.006444Z",
     "start_time": "2024-07-26T18:13:02.181575Z"
    }
   },
   "cell_type": "code",
   "source": "import pandas as pd",
   "id": "666c30e56ff313c",
   "outputs": [],
   "execution_count": 26
  },
  {
   "metadata": {
    "ExecuteTime": {
     "end_time": "2024-07-26T18:11:31.188322Z",
     "start_time": "2024-07-26T18:11:31.183042Z"
    }
   },
   "cell_type": "code",
   "source": "books = []",
   "id": "e930b36a32fde72a",
   "outputs": [],
   "execution_count": 24
  },
  {
   "metadata": {
    "ExecuteTime": {
     "end_time": "2024-07-26T18:13:02.180193Z",
     "start_time": "2024-07-26T18:11:31.898841Z"
    }
   },
   "cell_type": "code",
   "source": [
    "for i in range(1,51):\n",
    "    url = f'http://books.toscrape.com/catalogue/page-{i}.html'\n",
    "    response = requests.get(url)\n",
    "    soup = BeautifulSoup(response.text, 'html.parser')\n",
    "    box = soup.find('ol', class_='row')\n",
    "    articles = box.find_all('article', class_='product_pod')\n",
    "    \n",
    "    for article in articles:\n",
    "        image = article.find('img')\n",
    "        title = image.attrs['alt']\n",
    "        star = article.find('p')\n",
    "        star = star['class'][1]\n",
    "        price = float(article.find('p', class_='price_color').text.lstrip('Â£'))\n",
    "        books.append([title, star, price])\n",
    "\n"
   ],
   "id": "6da7f47259e03eb8",
   "outputs": [],
   "execution_count": 25
  },
  {
   "metadata": {
    "ExecuteTime": {
     "end_time": "2024-07-26T18:14:21.526904Z",
     "start_time": "2024-07-26T18:14:21.518234Z"
    }
   },
   "cell_type": "code",
   "source": "df = pd.DataFrame(books, columns=['Title', 'Price', 'Star Rating'])",
   "id": "a68290953bb91cae",
   "outputs": [],
   "execution_count": 27
  },
  {
   "metadata": {
    "ExecuteTime": {
     "end_time": "2024-07-26T18:14:30.346234Z",
     "start_time": "2024-07-26T18:14:30.230488Z"
    }
   },
   "cell_type": "code",
   "source": "df.to_csv('books.csv', index=False)",
   "id": "10302ebea0a49ca3",
   "outputs": [],
   "execution_count": 28
  },
  {
   "metadata": {},
   "cell_type": "code",
   "outputs": [],
   "execution_count": null,
   "source": "",
   "id": "2ff53189da8c682"
  }
 ],
 "metadata": {
  "kernelspec": {
   "display_name": "Python 3",
   "language": "python",
   "name": "python3"
  },
  "language_info": {
   "codemirror_mode": {
    "name": "ipython",
    "version": 2
   },
   "file_extension": ".py",
   "mimetype": "text/x-python",
   "name": "python",
   "nbconvert_exporter": "python",
   "pygments_lexer": "ipython2",
   "version": "2.7.6"
  }
 },
 "nbformat": 4,
 "nbformat_minor": 5
}
